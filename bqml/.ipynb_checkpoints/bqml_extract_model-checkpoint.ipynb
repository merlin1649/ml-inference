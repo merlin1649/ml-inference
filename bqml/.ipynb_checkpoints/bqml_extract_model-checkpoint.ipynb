{
 "cells": [
  {
   "cell_type": "markdown",
   "metadata": {},
   "source": [
    "# Tutorial: Exporting BQML Models to Online AI Platform Prediction\n",
    "BigQuery ML provides a user-friendly interface to easily create ML models from any size data sets as well as make batch predictions at scale.  To make online predictions, BQML provides an export function to export TensorFlow SavedModel.  This tutorial will cover the steps in the following three parts:\n",
    "1. Create model in BQML\n",
    "2. Extract model from BQML and load model onto AI Platform\n",
    "3. Run online prediction via Python REST client"
   ]
  },
  {
   "cell_type": "markdown",
   "metadata": {},
   "source": [
    "## PART 1: Create model in BQML"
   ]
  },
  {
   "cell_type": "markdown",
   "metadata": {},
   "source": [
    "#### Set variables for this part of the tutorial"
   ]
  },
  {
   "cell_type": "code",
   "execution_count": 1,
   "metadata": {},
   "outputs": [],
   "source": [
    "PROJECT_ID='tsaikevin-ds'"
   ]
  },
  {
   "cell_type": "code",
   "execution_count": 2,
   "metadata": {},
   "outputs": [
    {
     "name": "stdout",
     "output_type": "stream",
     "text": [
      "Updated property [core/project].\n"
     ]
    }
   ],
   "source": [
    "!gcloud config set project $PROJECT_ID"
   ]
  },
  {
   "cell_type": "markdown",
   "metadata": {},
   "source": [
    "#### Create a dataset to store artifacts"
   ]
  },
  {
   "cell_type": "code",
   "execution_count": 3,
   "metadata": {},
   "outputs": [
    {
     "name": "stdout",
     "output_type": "stream",
     "text": [
      "Dataset 'tsaikevin-ds:natality' successfully created.\n"
     ]
    }
   ],
   "source": [
    "!bq mk natality"
   ]
  },
  {
   "cell_type": "code",
   "execution_count": 4,
   "metadata": {},
   "outputs": [
    {
     "name": "stdout",
     "output_type": "stream",
     "text": [
      "                  datasetId                  \n",
      " ------------------------------------------- \n",
      "  _a0b4313c74cf244637326bd507bb702f72607047  \n",
      "  natality                                   \n"
     ]
    }
   ],
   "source": [
    "!bq ls -a"
   ]
  },
  {
   "cell_type": "code",
   "execution_count": 5,
   "metadata": {},
   "outputs": [
    {
     "name": "stdout",
     "output_type": "stream",
     "text": [
      "Dataset tsaikevin-ds:natality\n",
      "\n",
      "+-----------------+------------------------+--------+\n",
      "|  Last modified  |          ACLs          | Labels |\n",
      "+-----------------+------------------------+--------+\n",
      "| 26 Mar 00:35:59 | Owners:                |        |\n",
      "|                 |   projectOwners,       |        |\n",
      "|                 |   tsaikevin@google.com |        |\n",
      "|                 | Writers:               |        |\n",
      "|                 |   projectWriters       |        |\n",
      "|                 | Readers:               |        |\n",
      "|                 |   projectReaders       |        |\n",
      "+-----------------+------------------------+--------+\n",
      "\n"
     ]
    }
   ],
   "source": [
    "!bq show --format=pretty natality"
   ]
  },
  {
   "cell_type": "markdown",
   "metadata": {},
   "source": [
    "#### Load Magic.  This will allow access to BQ from this notebook."
   ]
  },
  {
   "cell_type": "code",
   "execution_count": 6,
   "metadata": {},
   "outputs": [],
   "source": [
    "%load_ext google.cloud.bigquery"
   ]
  },
  {
   "cell_type": "markdown",
   "metadata": {},
   "source": [
    "#### Review a sample of the data this tutorial will use."
   ]
  },
  {
   "cell_type": "code",
   "execution_count": 7,
   "metadata": {},
   "outputs": [
    {
     "data": {
      "text/html": [
       "<div>\n",
       "<style scoped>\n",
       "    .dataframe tbody tr th:only-of-type {\n",
       "        vertical-align: middle;\n",
       "    }\n",
       "\n",
       "    .dataframe tbody tr th {\n",
       "        vertical-align: top;\n",
       "    }\n",
       "\n",
       "    .dataframe thead th {\n",
       "        text-align: right;\n",
       "    }\n",
       "</style>\n",
       "<table border=\"1\" class=\"dataframe\">\n",
       "  <thead>\n",
       "    <tr style=\"text-align: right;\">\n",
       "      <th></th>\n",
       "      <th>weight_pounds</th>\n",
       "      <th>is_male</th>\n",
       "      <th>gestation_weeks</th>\n",
       "      <th>mother_age</th>\n",
       "      <th>mother_race</th>\n",
       "    </tr>\n",
       "  </thead>\n",
       "  <tbody>\n",
       "    <tr>\n",
       "      <td>0</td>\n",
       "      <td>8.000575</td>\n",
       "      <td>False</td>\n",
       "      <td>39</td>\n",
       "      <td>40</td>\n",
       "      <td>7</td>\n",
       "    </tr>\n",
       "    <tr>\n",
       "      <td>1</td>\n",
       "      <td>6.750554</td>\n",
       "      <td>False</td>\n",
       "      <td>39</td>\n",
       "      <td>36</td>\n",
       "      <td>4</td>\n",
       "    </tr>\n",
       "    <tr>\n",
       "      <td>2</td>\n",
       "      <td>5.562263</td>\n",
       "      <td>False</td>\n",
       "      <td>42</td>\n",
       "      <td>34</td>\n",
       "      <td>6</td>\n",
       "    </tr>\n",
       "    <tr>\n",
       "      <td>3</td>\n",
       "      <td>7.098885</td>\n",
       "      <td>True</td>\n",
       "      <td>40</td>\n",
       "      <td>41</td>\n",
       "      <td>4</td>\n",
       "    </tr>\n",
       "    <tr>\n",
       "      <td>4</td>\n",
       "      <td>6.124442</td>\n",
       "      <td>True</td>\n",
       "      <td>40</td>\n",
       "      <td>31</td>\n",
       "      <td>1</td>\n",
       "    </tr>\n",
       "  </tbody>\n",
       "</table>\n",
       "</div>"
      ],
      "text/plain": [
       "   weight_pounds  is_male  gestation_weeks  mother_age mother_race\n",
       "0       8.000575    False               39          40           7\n",
       "1       6.750554    False               39          36           4\n",
       "2       5.562263    False               42          34           6\n",
       "3       7.098885     True               40          41           4\n",
       "4       6.124442     True               40          31           1"
      ]
     },
     "execution_count": 7,
     "metadata": {},
     "output_type": "execute_result"
    }
   ],
   "source": [
    "%%bigquery\n",
    "    SELECT\n",
    "      weight_pounds,\n",
    "      is_male,\n",
    "      gestation_weeks,\n",
    "      mother_age,\n",
    "      CAST(mother_race AS string) AS mother_race\n",
    "    FROM\n",
    "      `bigquery-public-data.samples.natality`\n",
    "    WHERE\n",
    "      weight_pounds IS NOT NULL\n",
    "    LIMIT 5"
   ]
  },
  {
   "cell_type": "markdown",
   "metadata": {},
   "source": [
    "#### Split Data\n",
    "The following query creates a view that adds a computed column.  This will be used for splitting the data into three parts.  Training will comprise of the largest part and will be used by BQML to train the model.  Internally, BQML will split this into training and validation.  Evaluation is the holdout set to test the model performance.  Prediction will be used by AI Platform Prediction after the model is extracted from BQML and hosted in AI Platform Prediction."
   ]
  },
  {
   "cell_type": "code",
   "execution_count": 8,
   "metadata": {},
   "outputs": [
    {
     "data": {
      "text/html": [
       "<div>\n",
       "<style scoped>\n",
       "    .dataframe tbody tr th:only-of-type {\n",
       "        vertical-align: middle;\n",
       "    }\n",
       "\n",
       "    .dataframe tbody tr th {\n",
       "        vertical-align: top;\n",
       "    }\n",
       "\n",
       "    .dataframe thead th {\n",
       "        text-align: right;\n",
       "    }\n",
       "</style>\n",
       "<table border=\"1\" class=\"dataframe\">\n",
       "  <thead>\n",
       "    <tr style=\"text-align: right;\">\n",
       "      <th></th>\n",
       "    </tr>\n",
       "  </thead>\n",
       "  <tbody>\n",
       "  </tbody>\n",
       "</table>\n",
       "</div>"
      ],
      "text/plain": [
       "Empty DataFrame\n",
       "Columns: []\n",
       "Index: []"
      ]
     },
     "execution_count": 8,
     "metadata": {},
     "output_type": "execute_result"
    }
   ],
   "source": [
    "%%bigquery\n",
    "    CREATE OR REPLACE VIEW\n",
    "      `natality.input_view` AS\n",
    "    SELECT\n",
    "      weight_pounds,\n",
    "      is_male,\n",
    "      gestation_weeks,\n",
    "      mother_age,\n",
    "      CAST(mother_race AS string) AS mother_race,\n",
    "      CASE\n",
    "        WHEN MOD(CAST(ROUND(weight_pounds*100) as int64), 10) < 8 THEN 'training'\n",
    "        WHEN MOD(CAST(ROUND(weight_pounds*100) as int64), 10) = 8 THEN 'evaluation'\n",
    "        WHEN MOD(CAST(ROUND(weight_pounds*100) as int64), 10) = 9 THEN 'prediction'\n",
    "      END AS datasplit\n",
    "    FROM\n",
    "      `bigquery-public-data.samples.natality`\n",
    "    WHERE\n",
    "      weight_pounds IS NOT NULL"
   ]
  },
  {
   "cell_type": "code",
   "execution_count": 9,
   "metadata": {},
   "outputs": [
    {
     "data": {
      "text/html": [
       "<div>\n",
       "<style scoped>\n",
       "    .dataframe tbody tr th:only-of-type {\n",
       "        vertical-align: middle;\n",
       "    }\n",
       "\n",
       "    .dataframe tbody tr th {\n",
       "        vertical-align: top;\n",
       "    }\n",
       "\n",
       "    .dataframe thead th {\n",
       "        text-align: right;\n",
       "    }\n",
       "</style>\n",
       "<table border=\"1\" class=\"dataframe\">\n",
       "  <thead>\n",
       "    <tr style=\"text-align: right;\">\n",
       "      <th></th>\n",
       "      <th>weight_pounds</th>\n",
       "      <th>is_male</th>\n",
       "      <th>gestation_weeks</th>\n",
       "      <th>mother_age</th>\n",
       "      <th>mother_race</th>\n",
       "      <th>datasplit</th>\n",
       "    </tr>\n",
       "  </thead>\n",
       "  <tbody>\n",
       "    <tr>\n",
       "      <td>0</td>\n",
       "      <td>7.625790</td>\n",
       "      <td>True</td>\n",
       "      <td>38.0</td>\n",
       "      <td>37</td>\n",
       "      <td>1</td>\n",
       "      <td>training</td>\n",
       "    </tr>\n",
       "    <tr>\n",
       "      <td>1</td>\n",
       "      <td>7.438397</td>\n",
       "      <td>False</td>\n",
       "      <td>38.0</td>\n",
       "      <td>43</td>\n",
       "      <td>6</td>\n",
       "      <td>training</td>\n",
       "    </tr>\n",
       "    <tr>\n",
       "      <td>2</td>\n",
       "      <td>8.437091</td>\n",
       "      <td>False</td>\n",
       "      <td>41.0</td>\n",
       "      <td>46</td>\n",
       "      <td>7</td>\n",
       "      <td>training</td>\n",
       "    </tr>\n",
       "    <tr>\n",
       "      <td>3</td>\n",
       "      <td>7.374463</td>\n",
       "      <td>True</td>\n",
       "      <td>99.0</td>\n",
       "      <td>38</td>\n",
       "      <td>7</td>\n",
       "      <td>training</td>\n",
       "    </tr>\n",
       "    <tr>\n",
       "      <td>4</td>\n",
       "      <td>5.813590</td>\n",
       "      <td>False</td>\n",
       "      <td>99.0</td>\n",
       "      <td>42</td>\n",
       "      <td>7</td>\n",
       "      <td>training</td>\n",
       "    </tr>\n",
       "    <tr>\n",
       "      <td>...</td>\n",
       "      <td>...</td>\n",
       "      <td>...</td>\n",
       "      <td>...</td>\n",
       "      <td>...</td>\n",
       "      <td>...</td>\n",
       "      <td>...</td>\n",
       "    </tr>\n",
       "    <tr>\n",
       "      <td>95</td>\n",
       "      <td>6.062712</td>\n",
       "      <td>False</td>\n",
       "      <td>28.0</td>\n",
       "      <td>38</td>\n",
       "      <td>None</td>\n",
       "      <td>training</td>\n",
       "    </tr>\n",
       "    <tr>\n",
       "      <td>96</td>\n",
       "      <td>6.812284</td>\n",
       "      <td>True</td>\n",
       "      <td>37.0</td>\n",
       "      <td>26</td>\n",
       "      <td>None</td>\n",
       "      <td>training</td>\n",
       "    </tr>\n",
       "    <tr>\n",
       "      <td>97</td>\n",
       "      <td>7.749249</td>\n",
       "      <td>False</td>\n",
       "      <td>41.0</td>\n",
       "      <td>35</td>\n",
       "      <td>None</td>\n",
       "      <td>training</td>\n",
       "    </tr>\n",
       "    <tr>\n",
       "      <td>98</td>\n",
       "      <td>7.813183</td>\n",
       "      <td>True</td>\n",
       "      <td>38.0</td>\n",
       "      <td>38</td>\n",
       "      <td>None</td>\n",
       "      <td>training</td>\n",
       "    </tr>\n",
       "    <tr>\n",
       "      <td>99</td>\n",
       "      <td>8.126239</td>\n",
       "      <td>True</td>\n",
       "      <td>44.0</td>\n",
       "      <td>31</td>\n",
       "      <td>None</td>\n",
       "      <td>training</td>\n",
       "    </tr>\n",
       "  </tbody>\n",
       "</table>\n",
       "<p>100 rows × 6 columns</p>\n",
       "</div>"
      ],
      "text/plain": [
       "    weight_pounds  is_male  gestation_weeks  mother_age mother_race datasplit\n",
       "0        7.625790     True             38.0          37           1  training\n",
       "1        7.438397    False             38.0          43           6  training\n",
       "2        8.437091    False             41.0          46           7  training\n",
       "3        7.374463     True             99.0          38           7  training\n",
       "4        5.813590    False             99.0          42           7  training\n",
       "..            ...      ...              ...         ...         ...       ...\n",
       "95       6.062712    False             28.0          38        None  training\n",
       "96       6.812284     True             37.0          26        None  training\n",
       "97       7.749249    False             41.0          35        None  training\n",
       "98       7.813183     True             38.0          38        None  training\n",
       "99       8.126239     True             44.0          31        None  training\n",
       "\n",
       "[100 rows x 6 columns]"
      ]
     },
     "execution_count": 9,
     "metadata": {},
     "output_type": "execute_result"
    }
   ],
   "source": [
    "%%bigquery\n",
    "    SELECT *\n",
    "    FROM\n",
    "      `natality.input_view`\n",
    "    LIMIT 100"
   ]
  },
  {
   "cell_type": "markdown",
   "metadata": {},
   "source": [
    "#### Train a Linear Regression model in BQML"
   ]
  },
  {
   "cell_type": "code",
   "execution_count": 10,
   "metadata": {},
   "outputs": [
    {
     "data": {
      "text/html": [
       "<div>\n",
       "<style scoped>\n",
       "    .dataframe tbody tr th:only-of-type {\n",
       "        vertical-align: middle;\n",
       "    }\n",
       "\n",
       "    .dataframe tbody tr th {\n",
       "        vertical-align: top;\n",
       "    }\n",
       "\n",
       "    .dataframe thead th {\n",
       "        text-align: right;\n",
       "    }\n",
       "</style>\n",
       "<table border=\"1\" class=\"dataframe\">\n",
       "  <thead>\n",
       "    <tr style=\"text-align: right;\">\n",
       "      <th></th>\n",
       "    </tr>\n",
       "  </thead>\n",
       "  <tbody>\n",
       "  </tbody>\n",
       "</table>\n",
       "</div>"
      ],
      "text/plain": [
       "Empty DataFrame\n",
       "Columns: []\n",
       "Index: []"
      ]
     },
     "execution_count": 10,
     "metadata": {},
     "output_type": "execute_result"
    }
   ],
   "source": [
    "%%bigquery\n",
    "    CREATE OR REPLACE MODEL\n",
    "      `natality.natality_model`\n",
    "    OPTIONS\n",
    "      (model_type='linear_reg',\n",
    "        input_label_cols=['weight_pounds']) AS\n",
    "            SELECT\n",
    "              weight_pounds,\n",
    "              is_male,\n",
    "              gestation_weeks,\n",
    "              mother_age,\n",
    "              CAST(mother_race AS string) AS mother_race\n",
    "            FROM\n",
    "              `natality.input_view`\n",
    "            WHERE\n",
    "              datasplit = 'training'"
   ]
  },
  {
   "cell_type": "markdown",
   "metadata": {},
   "source": [
    "List models with the bq ls -m option."
   ]
  },
  {
   "cell_type": "code",
   "execution_count": 11,
   "metadata": {},
   "outputs": [
    {
     "name": "stdout",
     "output_type": "stream",
     "text": [
      "+----------------+-------------------+--------+-----------------+\n",
      "|       Id       |    Model Type     | Labels |  Creation Time  |\n",
      "+----------------+-------------------+--------+-----------------+\n",
      "| natality_model | LINEAR_REGRESSION |        | 26 Mar 00:40:19 |\n",
      "+----------------+-------------------+--------+-----------------+\n"
     ]
    }
   ],
   "source": [
    "!bq ls -m --format=pretty natality"
   ]
  },
  {
   "cell_type": "markdown",
   "metadata": {},
   "source": [
    "Get details about natality_model."
   ]
  },
  {
   "cell_type": "code",
   "execution_count": 12,
   "metadata": {},
   "outputs": [
    {
     "name": "stdout",
     "output_type": "stream",
     "text": [
      "Model tsaikevin-ds:natality.natality_model\n",
      "\n",
      "+----------------+-------------------+---------------------------+-------------------------------------+--------+-----------------+-----------------+\n",
      "|       Id       |    Model Type     |      Feature Columns      |            Label Columns            | Labels |  Creation Time  | Expiration Time |\n",
      "+----------------+-------------------+---------------------------+-------------------------------------+--------+-----------------+-----------------+\n",
      "| natality_model | LINEAR_REGRESSION | |- is_male: bool          | |- predicted_weight_pounds: float64 |        | 26 Mar 00:40:19 |                 |\n",
      "|                |                   | |- gestation_weeks: int64 |                                     |        |                 |                 |\n",
      "|                |                   | |- mother_age: int64      |                                     |        |                 |                 |\n",
      "|                |                   | |- mother_race: string    |                                     |        |                 |                 |\n",
      "+----------------+-------------------+---------------------------+-------------------------------------+--------+-----------------+-----------------+\n",
      "\n"
     ]
    }
   ],
   "source": [
    "!bq show -m --format=pretty natality.natality_model"
   ]
  },
  {
   "cell_type": "markdown",
   "metadata": {},
   "source": [
    "#### Run ML.EVALUATE against the \"evaluation\" set"
   ]
  },
  {
   "cell_type": "code",
   "execution_count": 13,
   "metadata": {},
   "outputs": [
    {
     "data": {
      "text/html": [
       "<div>\n",
       "<style scoped>\n",
       "    .dataframe tbody tr th:only-of-type {\n",
       "        vertical-align: middle;\n",
       "    }\n",
       "\n",
       "    .dataframe tbody tr th {\n",
       "        vertical-align: top;\n",
       "    }\n",
       "\n",
       "    .dataframe thead th {\n",
       "        text-align: right;\n",
       "    }\n",
       "</style>\n",
       "<table border=\"1\" class=\"dataframe\">\n",
       "  <thead>\n",
       "    <tr style=\"text-align: right;\">\n",
       "      <th></th>\n",
       "      <th>mean_absolute_error</th>\n",
       "      <th>mean_squared_error</th>\n",
       "      <th>mean_squared_log_error</th>\n",
       "      <th>median_absolute_error</th>\n",
       "      <th>r2_score</th>\n",
       "      <th>explained_variance</th>\n",
       "    </tr>\n",
       "  </thead>\n",
       "  <tbody>\n",
       "    <tr>\n",
       "      <td>0</td>\n",
       "      <td>1.082583</td>\n",
       "      <td>1.873848</td>\n",
       "      <td>0.038992</td>\n",
       "      <td>0.935231</td>\n",
       "      <td>0.052661</td>\n",
       "      <td>0.053171</td>\n",
       "    </tr>\n",
       "  </tbody>\n",
       "</table>\n",
       "</div>"
      ],
      "text/plain": [
       "   mean_absolute_error  mean_squared_error  mean_squared_log_error  \\\n",
       "0             1.082583            1.873848                0.038992   \n",
       "\n",
       "   median_absolute_error  r2_score  explained_variance  \n",
       "0               0.935231  0.052661            0.053171  "
      ]
     },
     "execution_count": 13,
     "metadata": {},
     "output_type": "execute_result"
    }
   ],
   "source": [
    "%%bigquery\n",
    "    SELECT\n",
    "      *\n",
    "    FROM\n",
    "      ML.EVALUATE(MODEL `natality.natality_model`,\n",
    "        ( SELECT\n",
    "          weight_pounds,\n",
    "          is_male,\n",
    "          gestation_weeks,\n",
    "          mother_age,\n",
    "          CAST(mother_race AS STRING) AS mother_race\n",
    "          FROM\n",
    "            `natality.input_view`\n",
    "          WHERE\n",
    "            datasplit = 'evaluation'))"
   ]
  },
  {
   "cell_type": "markdown",
   "metadata": {},
   "source": [
    "#### Run batch prediction with ML.PREDICT against the \"prediction\" set\n",
    "Note this prediction is done in BQML.  Online prediction via AI Platform below."
   ]
  },
  {
   "cell_type": "code",
   "execution_count": 14,
   "metadata": {},
   "outputs": [
    {
     "data": {
      "text/html": [
       "<div>\n",
       "<style scoped>\n",
       "    .dataframe tbody tr th:only-of-type {\n",
       "        vertical-align: middle;\n",
       "    }\n",
       "\n",
       "    .dataframe tbody tr th {\n",
       "        vertical-align: top;\n",
       "    }\n",
       "\n",
       "    .dataframe thead th {\n",
       "        text-align: right;\n",
       "    }\n",
       "</style>\n",
       "<table border=\"1\" class=\"dataframe\">\n",
       "  <thead>\n",
       "    <tr style=\"text-align: right;\">\n",
       "      <th></th>\n",
       "      <th>predicted_weight_pounds</th>\n",
       "    </tr>\n",
       "  </thead>\n",
       "  <tbody>\n",
       "    <tr>\n",
       "      <td>0</td>\n",
       "      <td>7.113222</td>\n",
       "    </tr>\n",
       "    <tr>\n",
       "      <td>1</td>\n",
       "      <td>7.351103</td>\n",
       "    </tr>\n",
       "    <tr>\n",
       "      <td>2</td>\n",
       "      <td>7.071296</td>\n",
       "    </tr>\n",
       "    <tr>\n",
       "      <td>3</td>\n",
       "      <td>7.357438</td>\n",
       "    </tr>\n",
       "    <tr>\n",
       "      <td>4</td>\n",
       "      <td>7.472364</td>\n",
       "    </tr>\n",
       "    <tr>\n",
       "      <td>...</td>\n",
       "      <td>...</td>\n",
       "    </tr>\n",
       "    <tr>\n",
       "      <td>95</td>\n",
       "      <td>7.253451</td>\n",
       "    </tr>\n",
       "    <tr>\n",
       "      <td>96</td>\n",
       "      <td>7.434085</td>\n",
       "    </tr>\n",
       "    <tr>\n",
       "      <td>97</td>\n",
       "      <td>8.030329</td>\n",
       "    </tr>\n",
       "    <tr>\n",
       "      <td>98</td>\n",
       "      <td>7.450750</td>\n",
       "    </tr>\n",
       "    <tr>\n",
       "      <td>99</td>\n",
       "      <td>7.483214</td>\n",
       "    </tr>\n",
       "  </tbody>\n",
       "</table>\n",
       "<p>100 rows × 1 columns</p>\n",
       "</div>"
      ],
      "text/plain": [
       "    predicted_weight_pounds\n",
       "0                  7.113222\n",
       "1                  7.351103\n",
       "2                  7.071296\n",
       "3                  7.357438\n",
       "4                  7.472364\n",
       "..                      ...\n",
       "95                 7.253451\n",
       "96                 7.434085\n",
       "97                 8.030329\n",
       "98                 7.450750\n",
       "99                 7.483214\n",
       "\n",
       "[100 rows x 1 columns]"
      ]
     },
     "execution_count": 14,
     "metadata": {},
     "output_type": "execute_result"
    }
   ],
   "source": [
    "%%bigquery\n",
    "    SELECT\n",
    "      predicted_weight_pounds\n",
    "    FROM\n",
    "      ML.PREDICT(MODEL `natality.natality_model`,\n",
    "        (\n",
    "        SELECT\n",
    "          is_male,\n",
    "          gestation_weeks,\n",
    "          mother_age,\n",
    "          CAST(mother_race AS STRING) AS mother_race\n",
    "        FROM\n",
    "          `natality.input_view`\n",
    "        WHERE\n",
    "          datasplit = 'prediction'\n",
    "        LIMIT 100))"
   ]
  },
  {
   "cell_type": "markdown",
   "metadata": {},
   "source": [
    "## PART 2: Extract model from BQML and load model onto AI Platform"
   ]
  },
  {
   "cell_type": "markdown",
   "metadata": {},
   "source": [
    "#### Set variables for this part of the tutorial\n",
    "AI Platform Prediction supports a model/version struture where one model can have multiple versions.  BQML model structure does not include versions.  In this part of the tutorial, the BQML model will be extracted into a version directory in GCS.  Later, AI Platform will pick this up as a version of a model."
   ]
  },
  {
   "cell_type": "code",
   "execution_count": 15,
   "metadata": {},
   "outputs": [],
   "source": [
    "import os\n",
    "import random\n",
    "\n",
    "REGION='us-central1'\n",
    "MODEL_VERSION='v1'\n",
    "\n",
    "MODEL_BUCKET='gs://{}-{}'.format(PROJECT_ID,str(random.randrange(1000,10000)))\n",
    "MODEL_PATH=os.path.join(MODEL_BUCKET,'export/natality_model',MODEL_VERSION)"
   ]
  },
  {
   "cell_type": "markdown",
   "metadata": {},
   "source": [
    "#### Create GCS bucket to store extracted SavedModel"
   ]
  },
  {
   "cell_type": "code",
   "execution_count": 16,
   "metadata": {},
   "outputs": [
    {
     "name": "stdout",
     "output_type": "stream",
     "text": [
      "Creating gs://tsaikevin-ds-2787/...\n"
     ]
    }
   ],
   "source": [
    "!gsutil mb $MODEL_BUCKET"
   ]
  },
  {
   "cell_type": "markdown",
   "metadata": {},
   "source": [
    "#### Extract model via bq extract"
   ]
  },
  {
   "cell_type": "code",
   "execution_count": 17,
   "metadata": {},
   "outputs": [
    {
     "name": "stdout",
     "output_type": "stream",
     "text": [
      "Waiting on bqjob_r2c90f1d5fdef2ea0_0000017115cb2848_1 ... (34s) Current status: DONE   \n"
     ]
    }
   ],
   "source": [
    "!bq extract -m natality.natality_model $MODEL_PATH"
   ]
  },
  {
   "cell_type": "markdown",
   "metadata": {},
   "source": [
    "#### Use saved_model_cli to get details of the extracted model\n",
    "The saved_model_cli output shows the expected input tensors to the model.  This will become important in structuring the prediction request packets.  As seen below, the model will expect requests in a format of:\n",
    "{'is_male': [DT_BOOL],\n",
    "    'gestation_weeks': [DT_FLOAT],\n",
    "    'mother_age': [DT_FLOAT],\n",
    "    'mother_race': [DT_STRING]}"
   ]
  },
  {
   "cell_type": "code",
   "execution_count": 18,
   "metadata": {},
   "outputs": [
    {
     "name": "stdout",
     "output_type": "stream",
     "text": [
      "The given SavedModel SignatureDef contains the following input(s):\n",
      "  inputs['gestation_weeks'] tensor_info:\n",
      "      dtype: DT_FLOAT\n",
      "      shape: (-1)\n",
      "      name: gestation_weeks:0\n",
      "  inputs['is_male'] tensor_info:\n",
      "      dtype: DT_BOOL\n",
      "      shape: (-1)\n",
      "      name: is_male:0\n",
      "  inputs['mother_age'] tensor_info:\n",
      "      dtype: DT_FLOAT\n",
      "      shape: (-1)\n",
      "      name: mother_age:0\n",
      "  inputs['mother_race'] tensor_info:\n",
      "      dtype: DT_STRING\n",
      "      shape: (-1)\n",
      "      name: mother_race:0\n",
      "The given SavedModel SignatureDef contains the following output(s):\n",
      "  outputs['predicted_label'] tensor_info:\n",
      "      dtype: DT_DOUBLE\n",
      "      shape: (-1, 1)\n",
      "      name: compute:0\n",
      "Method name is: tensorflow/serving/predict\n"
     ]
    }
   ],
   "source": [
    "!saved_model_cli show --dir $MODEL_PATH --tag_set serve --signature_def serving_default"
   ]
  },
  {
   "cell_type": "markdown",
   "metadata": {},
   "source": [
    "#### Create Model in AI Platform Prediction"
   ]
  },
  {
   "cell_type": "code",
   "execution_count": 19,
   "metadata": {},
   "outputs": [
    {
     "name": "stdout",
     "output_type": "stream",
     "text": [
      "Created ml engine model [projects/tsaikevin-ds/models/natality_model].\n"
     ]
    }
   ],
   "source": [
    "!gcloud ai-platform models create natality_model --regions=$REGION"
   ]
  },
  {
   "cell_type": "markdown",
   "metadata": {},
   "source": [
    "#### Create a Version in the Model in AI Platform Prediction"
   ]
  },
  {
   "cell_type": "code",
   "execution_count": 20,
   "metadata": {},
   "outputs": [
    {
     "name": "stdout",
     "output_type": "stream",
     "text": [
      "Creating version (this might take a few minutes)......done.                    \n"
     ]
    }
   ],
   "source": [
    "!gcloud ai-platform versions create v1 --model=natality_model --framework=tensorflow --runtime-version=1.15 --origin=$MODEL_PATH"
   ]
  },
  {
   "cell_type": "markdown",
   "metadata": {},
   "source": [
    "# PART 3: Run online prediction via Python REST client\n",
    "This section of the tutorial will first create a BQ Python client to query the \"prediction\" dataset into a dataframe.  Then a slice of the dataframe will be made into an online request via REST API to AI Platform Prediction."
   ]
  },
  {
   "cell_type": "code",
   "execution_count": 21,
   "metadata": {},
   "outputs": [
    {
     "name": "stderr",
     "output_type": "stream",
     "text": [
      "/opt/anaconda3/lib/python3.7/site-packages/google/auth/_default.py:69: UserWarning: Your application has authenticated using end user credentials from Google Cloud SDK. We recommend that most server applications use service accounts instead. If your application continues to use end user credentials from Cloud SDK, you might receive a \"quota exceeded\" or \"API not enabled\" error. For more information about service accounts, see https://cloud.google.com/docs/authentication/\n",
      "  warnings.warn(_CLOUD_SDK_CREDENTIALS_WARNING)\n",
      "/opt/anaconda3/lib/python3.7/site-packages/google/auth/_default.py:69: UserWarning: Your application has authenticated using end user credentials from Google Cloud SDK. We recommend that most server applications use service accounts instead. If your application continues to use end user credentials from Cloud SDK, you might receive a \"quota exceeded\" or \"API not enabled\" error. For more information about service accounts, see https://cloud.google.com/docs/authentication/\n",
      "  warnings.warn(_CLOUD_SDK_CREDENTIALS_WARNING)\n"
     ]
    }
   ],
   "source": [
    "from google.cloud import bigquery\n",
    "client = bigquery.Client()"
   ]
  },
  {
   "cell_type": "markdown",
   "metadata": {},
   "source": [
    "#### Create the dataframe to load the \"prediction\" dataset from BQ"
   ]
  },
  {
   "cell_type": "code",
   "execution_count": 22,
   "metadata": {},
   "outputs": [],
   "source": [
    "sql = \"\"\"\n",
    "    SELECT\n",
    "      is_male,\n",
    "      gestation_weeks,\n",
    "      mother_age,\n",
    "      CAST(mother_race AS STRING) AS mother_race\n",
    "    FROM\n",
    "      `natality.input_view`\n",
    "    WHERE\n",
    "      datasplit = 'prediction'\n",
    "    LIMIT 100\n",
    "\"\"\"\n",
    "\n",
    "df = client.query(sql).to_dataframe()"
   ]
  },
  {
   "cell_type": "markdown",
   "metadata": {},
   "source": [
    "#### Take a small slice of the dataframe and conver to a list of dictionaries."
   ]
  },
  {
   "cell_type": "code",
   "execution_count": 23,
   "metadata": {},
   "outputs": [],
   "source": [
    "request=df.to_dict(orient='records')[2:7]"
   ]
  },
  {
   "cell_type": "code",
   "execution_count": 24,
   "metadata": {},
   "outputs": [
    {
     "data": {
      "text/plain": [
       "[{'is_male': False,\n",
       "  'gestation_weeks': 35.0,\n",
       "  'mother_age': 33,\n",
       "  'mother_race': '68'},\n",
       " {'is_male': False,\n",
       "  'gestation_weeks': 39.0,\n",
       "  'mother_age': 23,\n",
       "  'mother_race': '68'},\n",
       " {'is_male': False,\n",
       "  'gestation_weeks': 40.0,\n",
       "  'mother_age': 40,\n",
       "  'mother_race': '48'},\n",
       " {'is_male': True,\n",
       "  'gestation_weeks': 41.0,\n",
       "  'mother_age': 36,\n",
       "  'mother_race': '38'},\n",
       " {'is_male': True,\n",
       "  'gestation_weeks': 41.0,\n",
       "  'mother_age': 35,\n",
       "  'mother_race': '6'}]"
      ]
     },
     "execution_count": 24,
     "metadata": {},
     "output_type": "execute_result"
    }
   ],
   "source": [
    "request"
   ]
  },
  {
   "cell_type": "markdown",
   "metadata": {},
   "source": [
    "#### Install API client"
   ]
  },
  {
   "cell_type": "code",
   "execution_count": 25,
   "metadata": {},
   "outputs": [
    {
     "name": "stdout",
     "output_type": "stream",
     "text": [
      "Requirement already up-to-date: google-api-python-client in /opt/anaconda3/lib/python3.7/site-packages (1.8.0)\n",
      "Requirement already satisfied, skipping upgrade: google-auth-httplib2>=0.0.3 in /opt/anaconda3/lib/python3.7/site-packages (from google-api-python-client) (0.0.3)\n",
      "Requirement already satisfied, skipping upgrade: uritemplate<4dev,>=3.0.0 in /opt/anaconda3/lib/python3.7/site-packages (from google-api-python-client) (3.0.1)\n",
      "Requirement already satisfied, skipping upgrade: google-auth>=1.4.1 in /opt/anaconda3/lib/python3.7/site-packages (from google-api-python-client) (1.11.2)\n",
      "Requirement already satisfied, skipping upgrade: six<2dev,>=1.6.1 in /opt/anaconda3/lib/python3.7/site-packages (from google-api-python-client) (1.14.0)\n",
      "Requirement already satisfied, skipping upgrade: httplib2<1dev,>=0.9.2 in /opt/anaconda3/lib/python3.7/site-packages (from google-api-python-client) (0.17.0)\n",
      "Requirement already satisfied, skipping upgrade: google-api-core<2dev,>=1.13.0 in /opt/anaconda3/lib/python3.7/site-packages (from google-api-python-client) (1.16.0)\n",
      "Requirement already satisfied, skipping upgrade: pyasn1-modules>=0.2.1 in /opt/anaconda3/lib/python3.7/site-packages (from google-auth>=1.4.1->google-api-python-client) (0.2.8)\n",
      "Requirement already satisfied, skipping upgrade: cachetools<5.0,>=2.0.0 in /opt/anaconda3/lib/python3.7/site-packages (from google-auth>=1.4.1->google-api-python-client) (4.0.0)\n",
      "Requirement already satisfied, skipping upgrade: setuptools>=40.3.0 in /opt/anaconda3/lib/python3.7/site-packages (from google-auth>=1.4.1->google-api-python-client) (41.4.0)\n",
      "Requirement already satisfied, skipping upgrade: rsa<4.1,>=3.1.4 in /opt/anaconda3/lib/python3.7/site-packages (from google-auth>=1.4.1->google-api-python-client) (4.0)\n",
      "Requirement already satisfied, skipping upgrade: pytz in /opt/anaconda3/lib/python3.7/site-packages (from google-api-core<2dev,>=1.13.0->google-api-python-client) (2019.3)\n",
      "Requirement already satisfied, skipping upgrade: requests<3.0.0dev,>=2.18.0 in /opt/anaconda3/lib/python3.7/site-packages (from google-api-core<2dev,>=1.13.0->google-api-python-client) (2.22.0)\n",
      "Requirement already satisfied, skipping upgrade: googleapis-common-protos<2.0dev,>=1.6.0 in /opt/anaconda3/lib/python3.7/site-packages (from google-api-core<2dev,>=1.13.0->google-api-python-client) (1.51.0)\n",
      "Requirement already satisfied, skipping upgrade: protobuf>=3.4.0 in /opt/anaconda3/lib/python3.7/site-packages (from google-api-core<2dev,>=1.13.0->google-api-python-client) (3.11.3)\n",
      "Requirement already satisfied, skipping upgrade: pyasn1<0.5.0,>=0.4.6 in /opt/anaconda3/lib/python3.7/site-packages (from pyasn1-modules>=0.2.1->google-auth>=1.4.1->google-api-python-client) (0.4.8)\n",
      "Requirement already satisfied, skipping upgrade: idna<2.9,>=2.5 in /opt/anaconda3/lib/python3.7/site-packages (from requests<3.0.0dev,>=2.18.0->google-api-core<2dev,>=1.13.0->google-api-python-client) (2.8)\n",
      "Requirement already satisfied, skipping upgrade: chardet<3.1.0,>=3.0.2 in /opt/anaconda3/lib/python3.7/site-packages (from requests<3.0.0dev,>=2.18.0->google-api-core<2dev,>=1.13.0->google-api-python-client) (3.0.4)\n",
      "Requirement already satisfied, skipping upgrade: urllib3!=1.25.0,!=1.25.1,<1.26,>=1.21.1 in /opt/anaconda3/lib/python3.7/site-packages (from requests<3.0.0dev,>=2.18.0->google-api-core<2dev,>=1.13.0->google-api-python-client) (1.24.2)\n",
      "Requirement already satisfied, skipping upgrade: certifi>=2017.4.17 in /opt/anaconda3/lib/python3.7/site-packages (from requests<3.0.0dev,>=2.18.0->google-api-core<2dev,>=1.13.0->google-api-python-client) (2019.9.11)\n"
     ]
    }
   ],
   "source": [
    "!pip install --upgrade google-api-python-client"
   ]
  },
  {
   "cell_type": "code",
   "execution_count": 26,
   "metadata": {},
   "outputs": [],
   "source": [
    "import googleapiclient.discovery"
   ]
  },
  {
   "cell_type": "code",
   "execution_count": 27,
   "metadata": {},
   "outputs": [
    {
     "name": "stderr",
     "output_type": "stream",
     "text": [
      "/opt/anaconda3/lib/python3.7/site-packages/google/auth/_default.py:69: UserWarning: Your application has authenticated using end user credentials from Google Cloud SDK. We recommend that most server applications use service accounts instead. If your application continues to use end user credentials from Cloud SDK, you might receive a \"quota exceeded\" or \"API not enabled\" error. For more information about service accounts, see https://cloud.google.com/docs/authentication/\n",
      "  warnings.warn(_CLOUD_SDK_CREDENTIALS_WARNING)\n"
     ]
    }
   ],
   "source": [
    "service = googleapiclient.discovery.build('ml','v1')"
   ]
  },
  {
   "cell_type": "code",
   "execution_count": 28,
   "metadata": {},
   "outputs": [],
   "source": [
    "name = 'projects/{}/models/natality_model/versions/{}'.format(PROJECT_ID, MODEL_VERSION)"
   ]
  },
  {
   "cell_type": "markdown",
   "metadata": {},
   "source": [
    "#### Execute online prediction from AI Platform"
   ]
  },
  {
   "cell_type": "code",
   "execution_count": 29,
   "metadata": {},
   "outputs": [],
   "source": [
    "response=service.projects().predict(\n",
    "    name=name,\n",
    "    body={'instances':request}\n",
    ").execute()"
   ]
  },
  {
   "cell_type": "code",
   "execution_count": 30,
   "metadata": {},
   "outputs": [
    {
     "data": {
      "text/plain": [
       "{'predictions': [{'predicted_label': [6.99845562793962]},\n",
       "  {'predicted_label': [6.867038388523724]},\n",
       "  {'predicted_label': [7.08371494592393]},\n",
       "  {'predicted_label': [8.038388922575905]},\n",
       "  {'predicted_label': [7.50500127327723]}]}"
      ]
     },
     "execution_count": 30,
     "metadata": {},
     "output_type": "execute_result"
    }
   ],
   "source": [
    "response"
   ]
  },
  {
   "cell_type": "markdown",
   "metadata": {},
   "source": [
    "# Clean Up"
   ]
  },
  {
   "cell_type": "code",
   "execution_count": 31,
   "metadata": {},
   "outputs": [
    {
     "name": "stdout",
     "output_type": "stream",
     "text": [
      "Deleting version [v1]......done.                                               \n"
     ]
    }
   ],
   "source": [
    "!gcloud ai-platform versions delete v1 --model=natality_model --quiet"
   ]
  },
  {
   "cell_type": "code",
   "execution_count": 32,
   "metadata": {},
   "outputs": [
    {
     "name": "stdout",
     "output_type": "stream",
     "text": [
      "Deleting model [natality_model]...done.                                        \n"
     ]
    }
   ],
   "source": [
    "!gcloud ai-platform models delete natality_model --quiet"
   ]
  },
  {
   "cell_type": "code",
   "execution_count": 33,
   "metadata": {},
   "outputs": [],
   "source": [
    "!bq rm -r -f natality"
   ]
  },
  {
   "cell_type": "code",
   "execution_count": 34,
   "metadata": {},
   "outputs": [
    {
     "name": "stdout",
     "output_type": "stream",
     "text": [
      "Removing gs://tsaikevin-ds-2787/export/#1585208591352524...\n",
      "Removing gs://tsaikevin-ds-2787/export/natality_model/#1585208592325409...      \n",
      "Removing gs://tsaikevin-ds-2787/export/natality_model/v1/#1585208593423844...   \n",
      "Removing gs://tsaikevin-ds-2787/export/natality_model/v1/assets/#1585208597226339...\n",
      "/ [4 objects]                                                                   \n",
      "==> NOTE: You are performing a sequence of gsutil operations that may\n",
      "run significantly faster if you instead use gsutil -m rm ... Please\n",
      "see the -m section under \"gsutil help options\" for further information\n",
      "about when gsutil -m can be advantageous.\n",
      "\n",
      "Removing gs://tsaikevin-ds-2787/export/natality_model/v1/assets/is_male.txt#1585208597624156...\n",
      "Removing gs://tsaikevin-ds-2787/export/natality_model/v1/assets/mother_race.txt#1585208598124244...\n",
      "Removing gs://tsaikevin-ds-2787/export/natality_model/v1/saved_model.pb#1585208598623992...\n",
      "Removing gs://tsaikevin-ds-2787/export/natality_model/v1/variables/#1585208595925807...\n",
      "Removing gs://tsaikevin-ds-2787/export/natality_model/v1/variables/variables.data-00000-of-00001#1585208599125153...\n",
      "Removing gs://tsaikevin-ds-2787/export/natality_model/v1/variables/variables.index#1585208599522745...\n",
      "/ [10 objects]                                                                  \n",
      "Operation completed over 10 objects.                                             \n",
      "Removing gs://tsaikevin-ds-2787/...\n"
     ]
    }
   ],
   "source": [
    "!gsutil rm -r $MODEL_BUCKET"
   ]
  },
  {
   "cell_type": "code",
   "execution_count": null,
   "metadata": {},
   "outputs": [],
   "source": []
  }
 ],
 "metadata": {
  "kernelspec": {
   "display_name": "Python 3",
   "language": "python",
   "name": "python3"
  },
  "language_info": {
   "codemirror_mode": {
    "name": "ipython",
    "version": 3
   },
   "file_extension": ".py",
   "mimetype": "text/x-python",
   "name": "python",
   "nbconvert_exporter": "python",
   "pygments_lexer": "ipython3",
   "version": "3.7.4"
  }
 },
 "nbformat": 4,
 "nbformat_minor": 4
}
